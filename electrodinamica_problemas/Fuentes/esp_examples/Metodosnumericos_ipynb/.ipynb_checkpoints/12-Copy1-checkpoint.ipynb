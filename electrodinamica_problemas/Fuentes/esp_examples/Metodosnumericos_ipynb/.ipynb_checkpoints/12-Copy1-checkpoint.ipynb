{
 "cells": [
  {
   "cell_type": "code",
   "execution_count": null,
   "metadata": {},
   "outputs": [
    {
     "data": {
      "text/html": [
       "<div id=\"glowscript\" class=\"glowscript\"></div>"
      ],
      "text/plain": [
       "<IPython.core.display.HTML object>"
      ]
     },
     "metadata": {},
     "output_type": "display_data"
    },
    {
     "data": {
      "application/javascript": [
       "if (typeof Jupyter !== \"undefined\") { window.__context = { glowscript_container: $(\"#glowscript\").removeAttr(\"id\")};}else{ element.textContent = ' ';}"
      ],
      "text/plain": [
       "<IPython.core.display.Javascript object>"
      ]
     },
     "metadata": {},
     "output_type": "display_data"
    },
    {
     "data": {
      "application/javascript": [
       "if (typeof Jupyter !== \"undefined\") {require.undef(\"nbextensions/vpython_libraries/glow.min\");}else{element.textContent = ' ';}"
      ],
      "text/plain": [
       "<IPython.core.display.Javascript object>"
      ]
     },
     "metadata": {},
     "output_type": "display_data"
    },
    {
     "data": {
      "application/javascript": [
       "if (typeof Jupyter !== \"undefined\") {require.undef(\"nbextensions/vpython_libraries/glowcomm\");}else{element.textContent = ' ';}"
      ],
      "text/plain": [
       "<IPython.core.display.Javascript object>"
      ]
     },
     "metadata": {},
     "output_type": "display_data"
    },
    {
     "data": {
      "application/javascript": [
       "if (typeof Jupyter !== \"undefined\") {require.undef(\"nbextensions/vpython_libraries/jquery-ui.custom.min\");}else{element.textContent = ' ';}"
      ],
      "text/plain": [
       "<IPython.core.display.Javascript object>"
      ]
     },
     "metadata": {},
     "output_type": "display_data"
    },
    {
     "data": {
      "application/javascript": [
       "if (typeof Jupyter !== \"undefined\") {require([\"nbextensions/vpython_libraries/glow.min\"], function(){console.log(\"GLOW LOADED\");});}else{element.textContent = ' ';}"
      ],
      "text/plain": [
       "<IPython.core.display.Javascript object>"
      ]
     },
     "metadata": {},
     "output_type": "display_data"
    },
    {
     "data": {
      "application/javascript": [
       "if (typeof Jupyter !== \"undefined\") {require([\"nbextensions/vpython_libraries/glowcomm\"], function(){console.log(\"GLOWCOMM LOADED\");});}else{element.textContent = ' ';}"
      ],
      "text/plain": [
       "<IPython.core.display.Javascript object>"
      ]
     },
     "metadata": {},
     "output_type": "display_data"
    },
    {
     "data": {
      "application/javascript": [
       "if (typeof Jupyter !== \"undefined\") {require([\"nbextensions/vpython_libraries/jquery-ui.custom.min\"], function(){console.log(\"JQUERY LOADED\");});}else{element.textContent = ' ';}"
      ],
      "text/plain": [
       "<IPython.core.display.Javascript object>"
      ]
     },
     "metadata": {},
     "output_type": "display_data"
    }
   ],
   "source": [
    "from vpython import *\n",
    "\n",
    "from random import random\n",
    "class particula:\n",
    "    def __init__(self,indice,x1=0,y1=0,carga=100,col=color.red):\n",
    "        self.indice = indice\n",
    "        self.x1=x1; self.y1=y1\n",
    "        self.carga=carga\n",
    "        self.color=col\n",
    "    vx = 0.0; vy = 0.0; masa = 1.0\n",
    "    x0 = 0.0; x2 = 0.0; y0 = 0.0; y2 = 0.0\n",
    "    \n",
    "    def axy(self):\n",
    "        ax = 0.0; ay = 0.0\n",
    "        for p in sistema:\n",
    "            if (p.indice!=self.indice):\n",
    "                r2=((self.x1-p.x1)*(self.x1-p.x1)\n",
    "                    +(self.y1-p.y1)*(self.y1-p.y1))\n",
    "                ax=ax+(self.x1-p.x1)*p.carga*self.carga/pow(r2,1.5)\n",
    "                ay=ay+(self.y1-p.y1)*p.carga*self.carga/pow(r2,1.5)\n",
    "        return [ax,ay]\n",
    "\n",
    "h=0.01; alfa=0.3\n",
    "f=200; mov=10\n",
    "\n",
    "fijas=[particula(i+mov,x1=100*cos(2*pi*i/f),y1=100*sin(2*pi*i/f),\n",
    "       col=color.yellow) for i in range(f)]\n",
    "\n",
    "moviles=[particula(i,x1=90*random()*cos(2*pi*random()),\n",
    "        y1=90*random()*sin(2*pi*random()),carga=50)\n",
    "        for i in range(mov)]\n",
    "    \n",
    "sistema=moviles+fijas\n",
    "\n",
    "for p in fijas:\n",
    "    sphere(pos=vec(p.x1,p.y1,0),radius=0.8, color=p.color)\n",
    "\n",
    "esferas=[sphere(pos=vec(p.x1,p.y1,0),radius=1.2, color=p.color) for p in moviles]\n",
    "\n",
    "for p in moviles:\n",
    "    p.x0=p.x1-p.vx*h+p.axy()[0]*h*h/2\n",
    "    p.y0=p.y1-p.vy*h+p.axy()[1]*h*h/2\n",
    "    \n",
    "for n in range(3500):\n",
    "    rate(100)\n",
    "    for p in moviles:\n",
    "        fa = alfa*h/2/p.masa-1\n",
    "        fa2 = 2*p.masa/(alfa*h+2*p.masa);\n",
    "        p.x2=fa2*(2*p.x1+p.x0*fa+p.axy()[0]*h*h)\n",
    "        p.y2=fa2*(2*p.y1+p.y0*fa+p.axy()[1]*h*h)\n",
    "        esferas[p.indice].pos=vec(p.x2,p.y2,0)\n",
    "        p.x0=p.x1; p.x1=p.x2\n",
    "        p.y0=p.y1; p.y1=p.y2\n",
    "    sleep(0)"
   ]
  },
  {
   "cell_type": "code",
   "execution_count": null,
   "metadata": {},
   "outputs": [],
   "source": []
  }
 ],
 "metadata": {
  "hide_input": false,
  "kernelspec": {
   "display_name": "Python 3",
   "language": "python",
   "name": "python3"
  },
  "language_info": {
   "codemirror_mode": {
    "name": "ipython",
    "version": 3
   },
   "file_extension": ".py",
   "mimetype": "text/x-python",
   "name": "python",
   "nbconvert_exporter": "python",
   "pygments_lexer": "ipython3",
   "version": "3.8.5"
  }
 },
 "nbformat": 4,
 "nbformat_minor": 4
}
