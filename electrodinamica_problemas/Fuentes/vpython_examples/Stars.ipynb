{
 "cells": [
  {
   "cell_type": "code",
   "execution_count": 1,
   "metadata": {},
   "outputs": [
    {
     "data": {
      "text/html": [
       "<div id=\"glowscript\" class=\"glowscript\"></div>"
      ],
      "text/plain": [
       "<IPython.core.display.HTML object>"
      ]
     },
     "metadata": {},
     "output_type": "display_data"
    },
    {
     "data": {
      "application/javascript": [
       "if (typeof Jupyter !== \"undefined\") { window.__context = { glowscript_container: $(\"#glowscript\").removeAttr(\"id\")};}else{ element.textContent = ' ';}"
      ],
      "text/plain": [
       "<IPython.core.display.Javascript object>"
      ]
     },
     "metadata": {},
     "output_type": "display_data"
    },
    {
     "data": {
      "text/html": [
       "<div id=\"glowscript\" class=\"glowscript\"></div>"
      ],
      "text/plain": [
       "<IPython.core.display.HTML object>"
      ]
     },
     "metadata": {},
     "output_type": "display_data"
    },
    {
     "data": {
      "application/javascript": [
       "if (typeof Jupyter !== \"undefined\") { window.__context = { glowscript_container: $(\"#glowscript\").removeAttr(\"id\")};}else{ element.textContent = ' ';}"
      ],
      "text/plain": [
       "<IPython.core.display.Javascript object>"
      ]
     },
     "metadata": {},
     "output_type": "display_data"
    },
    {
     "data": {
      "application/javascript": [
       "if (typeof Jupyter !== \"undefined\") {require.undef(\"nbextensions/vpython_libraries/glow.min\");}else{element.textContent = ' ';}"
      ],
      "text/plain": [
       "<IPython.core.display.Javascript object>"
      ]
     },
     "metadata": {},
     "output_type": "display_data"
    },
    {
     "data": {
      "application/javascript": [
       "if (typeof Jupyter !== \"undefined\") {require.undef(\"nbextensions/vpython_libraries/glowcomm\");}else{element.textContent = ' ';}"
      ],
      "text/plain": [
       "<IPython.core.display.Javascript object>"
      ]
     },
     "metadata": {},
     "output_type": "display_data"
    },
    {
     "data": {
      "application/javascript": [
       "if (typeof Jupyter !== \"undefined\") {require.undef(\"nbextensions/vpython_libraries/jquery-ui.custom.min\");}else{element.textContent = ' ';}"
      ],
      "text/plain": [
       "<IPython.core.display.Javascript object>"
      ]
     },
     "metadata": {},
     "output_type": "display_data"
    },
    {
     "data": {
      "application/javascript": [
       "if (typeof Jupyter !== \"undefined\") {require([\"nbextensions/vpython_libraries/glow.min\"], function(){console.log(\"GLOW LOADED\");});}else{element.textContent = ' ';}"
      ],
      "text/plain": [
       "<IPython.core.display.Javascript object>"
      ]
     },
     "metadata": {},
     "output_type": "display_data"
    },
    {
     "data": {
      "application/javascript": [
       "if (typeof Jupyter !== \"undefined\") {require([\"nbextensions/vpython_libraries/glowcomm\"], function(){console.log(\"GLOWCOMM LOADED\");});}else{element.textContent = ' ';}"
      ],
      "text/plain": [
       "<IPython.core.display.Javascript object>"
      ]
     },
     "metadata": {},
     "output_type": "display_data"
    },
    {
     "data": {
      "application/javascript": [
       "if (typeof Jupyter !== \"undefined\") {require([\"nbextensions/vpython_libraries/jquery-ui.custom.min\"], function(){console.log(\"JQUERY LOADED\");});}else{element.textContent = ' ';}"
      ],
      "text/plain": [
       "<IPython.core.display.Javascript object>"
      ]
     },
     "metadata": {},
     "output_type": "display_data"
    },
    {
     "ename": "KeyboardInterrupt",
     "evalue": "",
     "output_type": "error",
     "traceback": [
      "\u001b[1;31m---------------------------------------------------------------------------\u001b[0m",
      "\u001b[1;31mKeyboardInterrupt\u001b[0m                         Traceback (most recent call last)",
      "\u001b[1;32m<ipython-input-1-cfebda36ad5b>\u001b[0m in \u001b[0;36m<module>\u001b[1;34m\u001b[0m\n\u001b[0;32m     83\u001b[0m \u001b[1;33m\u001b[0m\u001b[0m\n\u001b[0;32m     84\u001b[0m \u001b[1;32mwhile\u001b[0m \u001b[1;32mTrue\u001b[0m\u001b[1;33m:\u001b[0m\u001b[1;33m\u001b[0m\u001b[1;33m\u001b[0m\u001b[0m\n\u001b[1;32m---> 85\u001b[1;33m     \u001b[0mrate\u001b[0m\u001b[1;33m(\u001b[0m\u001b[1;36m100\u001b[0m\u001b[1;33m)\u001b[0m\u001b[1;33m\u001b[0m\u001b[1;33m\u001b[0m\u001b[0m\n\u001b[0m\u001b[0;32m     86\u001b[0m \u001b[1;33m\u001b[0m\u001b[0m\n\u001b[0;32m     87\u001b[0m     \u001b[1;31m# Compute all forces on all stars\u001b[0m\u001b[1;33m\u001b[0m\u001b[1;33m\u001b[0m\u001b[1;33m\u001b[0m\u001b[0m\n",
      "\u001b[1;32m~\\anaconda3\\lib\\site-packages\\vpython\\rate_control.py\u001b[0m in \u001b[0;36m__call__\u001b[1;34m(self, N)\u001b[0m\n\u001b[0;32m    264\u001b[0m         \u001b[0mself\u001b[0m\u001b[1;33m.\u001b[0m\u001b[0mrval\u001b[0m \u001b[1;33m=\u001b[0m \u001b[0mN\u001b[0m\u001b[1;33m\u001b[0m\u001b[1;33m\u001b[0m\u001b[0m\n\u001b[0;32m    265\u001b[0m         \u001b[1;32mif\u001b[0m \u001b[0mself\u001b[0m\u001b[1;33m.\u001b[0m\u001b[0mrval\u001b[0m \u001b[1;33m<\u001b[0m \u001b[1;36m1\u001b[0m\u001b[1;33m:\u001b[0m \u001b[1;32mraise\u001b[0m \u001b[0mValueError\u001b[0m\u001b[1;33m(\u001b[0m\u001b[1;34m\"rate value must be greater than or equal to 1\"\u001b[0m\u001b[1;33m)\u001b[0m\u001b[1;33m\u001b[0m\u001b[1;33m\u001b[0m\u001b[0m\n\u001b[1;32m--> 266\u001b[1;33m         \u001b[0msuper\u001b[0m\u001b[1;33m(\u001b[0m\u001b[0m_RateKeeper2\u001b[0m\u001b[1;33m,\u001b[0m \u001b[0mself\u001b[0m\u001b[1;33m)\u001b[0m\u001b[1;33m.\u001b[0m\u001b[0m__call__\u001b[0m\u001b[1;33m(\u001b[0m\u001b[0mself\u001b[0m\u001b[1;33m.\u001b[0m\u001b[0mrval\u001b[0m\u001b[1;33m)\u001b[0m \u001b[1;31m## calls __call__ in rate_control.py\u001b[0m\u001b[1;33m\u001b[0m\u001b[1;33m\u001b[0m\u001b[0m\n\u001b[0m\u001b[0;32m    267\u001b[0m \u001b[1;33m\u001b[0m\u001b[0m\n\u001b[0;32m    268\u001b[0m \u001b[1;33m\u001b[0m\u001b[0m\n",
      "\u001b[1;32m~\\anaconda3\\lib\\site-packages\\vpython\\rate_control.py\u001b[0m in \u001b[0;36m__call__\u001b[1;34m(self, maxRate)\u001b[0m\n\u001b[0;32m    218\u001b[0m             \u001b[0mdt\u001b[0m \u001b[1;33m=\u001b[0m \u001b[0mself\u001b[0m\u001b[1;33m.\u001b[0m\u001b[0mlastSleep\u001b[0m \u001b[1;33m+\u001b[0m \u001b[0mself\u001b[0m\u001b[1;33m.\u001b[0m\u001b[0mcalls\u001b[0m\u001b[1;33m*\u001b[0m\u001b[1;33m(\u001b[0m\u001b[0mself\u001b[0m\u001b[1;33m.\u001b[0m\u001b[0muserTime\u001b[0m \u001b[1;33m+\u001b[0m \u001b[0mself\u001b[0m\u001b[1;33m.\u001b[0m\u001b[0mcallTime\u001b[0m \u001b[1;33m+\u001b[0m \u001b[0mself\u001b[0m\u001b[1;33m.\u001b[0m\u001b[0mdelay\u001b[0m\u001b[1;33m)\u001b[0m \u001b[1;33m+\u001b[0m\u001b[0;31m \u001b[0m\u001b[0;31m\\\u001b[0m\u001b[1;33m\u001b[0m\u001b[1;33m\u001b[0m\u001b[0m\n\u001b[0;32m    219\u001b[0m                  \u001b[0mrenders\u001b[0m\u001b[1;33m*\u001b[0m\u001b[0mself\u001b[0m\u001b[1;33m.\u001b[0m\u001b[0mrenderTime\u001b[0m \u001b[1;33m+\u001b[0m \u001b[0msleeps\u001b[0m\u001b[1;33m*\u001b[0m\u001b[0mself\u001b[0m\u001b[1;33m.\u001b[0m\u001b[0minteractionPeriod\u001b[0m \u001b[1;33m-\u001b[0m \u001b[0m_clock\u001b[0m\u001b[1;33m(\u001b[0m\u001b[1;33m)\u001b[0m\u001b[1;33m\u001b[0m\u001b[1;33m\u001b[0m\u001b[0m\n\u001b[1;32m--> 220\u001b[1;33m             \u001b[0m_sleep\u001b[0m\u001b[1;33m(\u001b[0m\u001b[0mdt\u001b[0m\u001b[1;33m)\u001b[0m\u001b[1;33m\u001b[0m\u001b[1;33m\u001b[0m\u001b[0m\n\u001b[0m\u001b[0;32m    221\u001b[0m             \u001b[0mself\u001b[0m\u001b[1;33m.\u001b[0m\u001b[0mlastSleep\u001b[0m \u001b[1;33m=\u001b[0m \u001b[0m_clock\u001b[0m\u001b[1;33m(\u001b[0m\u001b[1;33m)\u001b[0m\u001b[1;33m\u001b[0m\u001b[1;33m\u001b[0m\u001b[0m\n\u001b[0;32m    222\u001b[0m             \u001b[0mself\u001b[0m\u001b[1;33m.\u001b[0m\u001b[0mcalls\u001b[0m \u001b[1;33m=\u001b[0m \u001b[1;36m0\u001b[0m\u001b[1;33m\u001b[0m\u001b[1;33m\u001b[0m\u001b[0m\n",
      "\u001b[1;32m~\\anaconda3\\lib\\site-packages\\vpython\\rate_control.py\u001b[0m in \u001b[0;36m_sleep\u001b[1;34m(dt)\u001b[0m\n\u001b[0;32m     60\u001b[0m         \u001b[0mdtsleep\u001b[0m \u001b[1;33m=\u001b[0m \u001b[0mnticks\u001b[0m\u001b[1;33m*\u001b[0m\u001b[0m_tick\u001b[0m\u001b[1;33m\u001b[0m\u001b[1;33m\u001b[0m\u001b[0m\n\u001b[0;32m     61\u001b[0m         \u001b[0mt\u001b[0m \u001b[1;33m=\u001b[0m \u001b[0m_clock\u001b[0m\u001b[1;33m(\u001b[0m\u001b[1;33m)\u001b[0m\u001b[1;33m\u001b[0m\u001b[1;33m\u001b[0m\u001b[0m\n\u001b[1;32m---> 62\u001b[1;33m         \u001b[0mtime\u001b[0m\u001b[1;33m.\u001b[0m\u001b[0msleep\u001b[0m\u001b[1;33m(\u001b[0m\u001b[0mdtsleep\u001b[0m\u001b[1;33m)\u001b[0m\u001b[1;33m\u001b[0m\u001b[1;33m\u001b[0m\u001b[0m\n\u001b[0m\u001b[0;32m     63\u001b[0m         \u001b[0mt\u001b[0m \u001b[1;33m=\u001b[0m \u001b[0m_clock\u001b[0m\u001b[1;33m(\u001b[0m\u001b[1;33m)\u001b[0m\u001b[1;33m-\u001b[0m\u001b[0mt\u001b[0m\u001b[1;33m\u001b[0m\u001b[1;33m\u001b[0m\u001b[0m\n\u001b[0;32m     64\u001b[0m         \u001b[0mdt\u001b[0m \u001b[1;33m-=\u001b[0m \u001b[0mt\u001b[0m\u001b[1;33m\u001b[0m\u001b[1;33m\u001b[0m\u001b[0m\n",
      "\u001b[1;31mKeyboardInterrupt\u001b[0m: "
     ]
    }
   ],
   "source": [
    "from vpython import *\n",
    "scene = canvas() # This is needed in Jupyter notebook and lab to make programs easily rerunnable\n",
    "\n",
    "# Stars interacting gravitationally\n",
    "\n",
    "# Bruce Sherwood\n",
    "\n",
    "scene.width = scene.height = 600\n",
    "\n",
    "# Display text below the 3D graphics:\n",
    "scene.title = \"Stars interacting gravitationally\"\n",
    "\n",
    "scene.caption = \"\"\"Right button drag or Ctrl-drag to rotate \"camera\" to view scene.\n",
    "To zoom, drag with middle button or Alt/Option depressed, or use scroll wheel.\n",
    "  On a two-button mouse, middle is left + right.\n",
    "Touch screen: pinch/extend to zoom, swipe or two-finger rotate.\"\"\"\n",
    "\n",
    "Nstars = 20  # change this to have more or fewer stars\n",
    "\n",
    "G = 6.7e-11 # Universal gravitational constant\n",
    "\n",
    "# Typical values\n",
    "Msun = 2E30\n",
    "Rsun = 2E9\n",
    "L = 4e10\n",
    "vsun = 0.8*sqrt(G*Msun/Rsun)\n",
    "\n",
    "scene.range = 2*L\n",
    "scene.forward = vec(-1,-1,-1)\n",
    "\n",
    "xaxis = curve(color=color.gray(0.5), radius=3e8)\n",
    "xaxis.append(vec(0,0,0))\n",
    "xaxis.append(vec(L,0,0))\n",
    "yaxis = curve(color=color.gray(0.5), radius=3e8)\n",
    "yaxis.append(vec(0,0,0))\n",
    "yaxis.append(vec(0,L,0))\n",
    "zaxis = curve(color=color.gray(0.5), radius=3e8)\n",
    "zaxis.append(vec(0,0,0))\n",
    "zaxis.append(vec(0,0,L))\n",
    "\n",
    "Stars = []\n",
    "star_colors = [color.red, color.green, color.blue,\n",
    "              color.yellow, color.cyan, color.magenta]\n",
    "\n",
    "psum = vec(0,0,0)\n",
    "for i in range(Nstars):\n",
    "    star = sphere(pos=L*vec.random(), make_trail=True, retain=150, trail_radius=3e8)\n",
    "    R = Rsun/2+Rsun*random()\n",
    "    star.radius = R\n",
    "    star.mass = Msun*(R/Rsun)**3\n",
    "    star.momentum = vec.random()*vsun*star.mass\n",
    "    star.color = star.trail_color = star_colors[i % 6]\n",
    "    Stars.append( star )\n",
    "    psum = psum + star.momentum\n",
    "\n",
    "#make total initial momentum equal zero\n",
    "for i in range(Nstars):\n",
    "    Stars[i].momentum = Stars[i].momentum - psum/Nstars\n",
    "\n",
    "dt = 1000\n",
    "hitlist = []\n",
    "\n",
    "def computeForces():\n",
    "    global hitlist, Stars\n",
    "    hitlist = []\n",
    "    N = len(Stars)\n",
    "    for i in range(N):\n",
    "        si = Stars[i]\n",
    "        if si is None: continue\n",
    "        F = vec(0,0,0)\n",
    "        pos1 = si.pos\n",
    "        m1 = si.mass\n",
    "        radius = si.radius\n",
    "        for j in range(N):\n",
    "            if i == j: continue\n",
    "            sj = Stars[j]\n",
    "            if sj is None: continue\n",
    "            r = sj.pos - pos1\n",
    "            rmag2 = mag2(r)\n",
    "            if rmag2 <= (radius+sj.radius)**2: hitlist.append([i,j])\n",
    "            F = F + (G*m1*sj.mass/(rmag2**1.5))*r\n",
    "        si.momentum = si.momentum + F*dt\n",
    "\n",
    "while True:\n",
    "    rate(100)\n",
    "    \n",
    "    # Compute all forces on all stars\n",
    "    computeForces()\n",
    "\n",
    "    # Having updated all momenta, now update all positions\n",
    "    for star in Stars:\n",
    "        if star is None: continue\n",
    "        star.pos = star.pos + star.momentum*(dt/star.mass)\n",
    "\n",
    "    # If any collisions took place, merge those stars\n",
    "    hit = len(hitlist)-1\n",
    "    while hit > 0:\n",
    "        s1 = Stars[hitlist[hit][0]]\n",
    "        s2 = Stars[hitlist[hit][1]]\n",
    "        if (s1 is None) or (s2 is None): continue\n",
    "    \n",
    "        mass = s1.mass + s2.mass\n",
    "        momentum = s1.momentum + s2.momentum\n",
    "        pos = (s1.mass*s1.pos + s2.mass*s2.pos) / mass\n",
    "        s1.color = s1.trail_color = (s1.mass*s1.color + s2.mass*s2.color) / mass\n",
    "        R = Rsun*(mass / Msun)**(1/3)\n",
    "        \n",
    "        s1.clear_trail()\n",
    "        s2.clear_trail()\n",
    "        s2.visible = False\n",
    "        \n",
    "        s1.mass = mass\n",
    "        s1.momentum = momentum\n",
    "        s1.pos = pos\n",
    "        s1.radius = R\n",
    "        Stars[hitlist[hit][1]] = None\n",
    "        hit -= 1\n"
   ]
  },
  {
   "cell_type": "code",
   "execution_count": null,
   "metadata": {},
   "outputs": [],
   "source": []
  }
 ],
 "metadata": {
  "anaconda-cloud": {},
  "hide_input": false,
  "kernelspec": {
   "display_name": "Python 3",
   "language": "python",
   "name": "python3"
  },
  "language_info": {
   "codemirror_mode": {
    "name": "ipython",
    "version": 3
   },
   "file_extension": ".py",
   "mimetype": "text/x-python",
   "name": "python",
   "nbconvert_exporter": "python",
   "pygments_lexer": "ipython3",
   "version": "3.8.5"
  }
 },
 "nbformat": 4,
 "nbformat_minor": 2
}
