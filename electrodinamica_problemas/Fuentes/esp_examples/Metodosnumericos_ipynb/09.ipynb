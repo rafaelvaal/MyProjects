{
 "cells": [
  {
   "cell_type": "code",
   "execution_count": null,
   "metadata": {},
   "outputs": [
    {
     "data": {
      "text/html": [
       "<div id=\"glowscript\" class=\"glowscript\"></div>"
      ],
      "text/plain": [
       "<IPython.core.display.HTML object>"
      ]
     },
     "metadata": {},
     "output_type": "display_data"
    },
    {
     "data": {
      "application/javascript": [
       "if (typeof Jupyter !== \"undefined\") { window.__context = { glowscript_container: $(\"#glowscript\").removeAttr(\"id\")};}else{ element.textContent = ' ';}"
      ],
      "text/plain": [
       "<IPython.core.display.Javascript object>"
      ]
     },
     "metadata": {},
     "output_type": "display_data"
    },
    {
     "data": {
      "application/javascript": [
       "if (typeof Jupyter !== \"undefined\") {require.undef(\"nbextensions/vpython_libraries/glow.min\");}else{element.textContent = ' ';}"
      ],
      "text/plain": [
       "<IPython.core.display.Javascript object>"
      ]
     },
     "metadata": {},
     "output_type": "display_data"
    },
    {
     "data": {
      "application/javascript": [
       "if (typeof Jupyter !== \"undefined\") {require.undef(\"nbextensions/vpython_libraries/glowcomm\");}else{element.textContent = ' ';}"
      ],
      "text/plain": [
       "<IPython.core.display.Javascript object>"
      ]
     },
     "metadata": {},
     "output_type": "display_data"
    },
    {
     "data": {
      "application/javascript": [
       "if (typeof Jupyter !== \"undefined\") {require.undef(\"nbextensions/vpython_libraries/jquery-ui.custom.min\");}else{element.textContent = ' ';}"
      ],
      "text/plain": [
       "<IPython.core.display.Javascript object>"
      ]
     },
     "metadata": {},
     "output_type": "display_data"
    },
    {
     "data": {
      "application/javascript": [
       "if (typeof Jupyter !== \"undefined\") {require([\"nbextensions/vpython_libraries/glow.min\"], function(){console.log(\"GLOW LOADED\");});}else{element.textContent = ' ';}"
      ],
      "text/plain": [
       "<IPython.core.display.Javascript object>"
      ]
     },
     "metadata": {},
     "output_type": "display_data"
    },
    {
     "data": {
      "application/javascript": [
       "if (typeof Jupyter !== \"undefined\") {require([\"nbextensions/vpython_libraries/glowcomm\"], function(){console.log(\"GLOWCOMM LOADED\");});}else{element.textContent = ' ';}"
      ],
      "text/plain": [
       "<IPython.core.display.Javascript object>"
      ]
     },
     "metadata": {},
     "output_type": "display_data"
    },
    {
     "data": {
      "application/javascript": [
       "if (typeof Jupyter !== \"undefined\") {require([\"nbextensions/vpython_libraries/jquery-ui.custom.min\"], function(){console.log(\"JQUERY LOADED\");});}else{element.textContent = ' ';}"
      ],
      "text/plain": [
       "<IPython.core.display.Javascript object>"
      ]
     },
     "metadata": {},
     "output_type": "display_data"
    }
   ],
   "source": [
    "from vpython import *\n",
    "\n",
    "class particula:\n",
    "    def __init__(self,indice): self.indice = indice\n",
    "    vx = 0; vy = 0\n",
    "    m = 1\n",
    "    x0=0.0; x1=0.0; x2=0.0\n",
    "    y0=0.0; y1=0.0; y2=0.0\n",
    "    colores=color.red\n",
    "    def axy(self):\n",
    "        ax=0.0; ay=0.0;\n",
    "        for p in sistema:\n",
    "            if (p.indice!=self.indice):\n",
    "                r2=((self.x1-p.x1)*(self.x1-p.x1)\n",
    "                    +(self.y1-p.y1)*(self.y1-p.y1))\n",
    "                ax=ax-(self.x1-p.x1)*p.m/pow(r2,1.5)\n",
    "                ay=ay-(self.y1-p.y1)*p.m/pow(r2,1.5)\n",
    "        return [ax,ay]\n",
    "\n",
    "display(range=1.75)\n",
    "\n",
    "sistema=[particula(i) for i in range(3)]\n",
    "h=0.001\n",
    "\n",
    "sistema[0].colores=color.red\n",
    "sistema[1].colores=color.green\n",
    "sistema[2].colores=color.yellow\n",
    "\n",
    "sistema[0].x1=0.97000436; sistema[0].y1=-0.24308753\n",
    "sistema[1].x1=-0.97000436; sistema[1].y1=0.24308753\n",
    "sistema[2].x1=0.0; sistema[2].y1=0.0\n",
    "\n",
    "sistema[0].vx=0.466203685; sistema[0].vy=0.43236573\n",
    "sistema[1].vx=0.466203685; sistema[1].vy=0.43236573\n",
    "sistema[2].vx=-0.93240737; sistema[2].vy=-0.86473146\n",
    "\n",
    "esferas=[sphere(pos=vec(p.x1,p.y1,0.0),radius=0.08,make_trail=True,\n",
    "                color=p.colores) for p in sistema]\n",
    "\n",
    "flechas=[arrow(pos=vec(p.x1,p.y1,0.0),shaftwidth=0.03,\n",
    "                color=p.colores,axis=vec(0.5*p.vx,0.5*p.vy,0.0)) for p in sistema]\n",
    "\n",
    "for p in sistema:\n",
    "    p.x0=p.x1-p.vx*h+p.axy()[0]*h*h/2\n",
    "    p.y0=p.y1-p.vy*h+p.axy()[1]*h*h/2\n",
    "\n",
    "while True:\n",
    "    rate(150)\n",
    "    for p in sistema:\n",
    "        p.x2=2*p.x1-p.x0+p.axy()[0]*h*h\n",
    "        p.y2=2*p.y1-p.y0+p.axy()[1]*h*h\n",
    "        p.vx=(p.x2-p.x1)/h; p.vy=(p.y2-p.y1)/h\n",
    "        esferas[p.indice].pos=vec(p.x2,p.y2,0.0)\n",
    "        flechas[p.indice].pos=vec(p.x2,p.y2,0.0)\n",
    "        flechas[p.indice].axis=vec(0.5*p.vx,0.5*p.vy,0.0)\n",
    "        p.x0=p.x1; p.x1=p.x2\n",
    "        p.y0=p.y1; p.y1=p.y2\n",
    "    sleep(0)"
   ]
  },
  {
   "cell_type": "code",
   "execution_count": null,
   "metadata": {},
   "outputs": [],
   "source": []
  }
 ],
 "metadata": {
  "hide_input": false,
  "kernelspec": {
   "display_name": "Python 3",
   "language": "python",
   "name": "python3"
  },
  "language_info": {
   "codemirror_mode": {
    "name": "ipython",
    "version": 3
   },
   "file_extension": ".py",
   "mimetype": "text/x-python",
   "name": "python",
   "nbconvert_exporter": "python",
   "pygments_lexer": "ipython3",
   "version": "3.8.5"
  }
 },
 "nbformat": 4,
 "nbformat_minor": 4
}
