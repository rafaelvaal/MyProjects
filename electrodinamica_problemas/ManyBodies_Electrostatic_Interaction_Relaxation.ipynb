{
 "cells": [
  {
   "cell_type": "code",
   "execution_count": null,
   "metadata": {},
   "outputs": [
    {
     "data": {
      "text/html": [
       "<div id=\"glowscript\" class=\"glowscript\"></div>"
      ],
      "text/plain": [
       "<IPython.core.display.HTML object>"
      ]
     },
     "metadata": {},
     "output_type": "display_data"
    },
    {
     "data": {
      "application/javascript": [
       "if (typeof Jupyter !== \"undefined\") { window.__context = { glowscript_container: $(\"#glowscript\").removeAttr(\"id\")};}else{ element.textContent = ' ';}"
      ],
      "text/plain": [
       "<IPython.core.display.Javascript object>"
      ]
     },
     "metadata": {},
     "output_type": "display_data"
    },
    {
     "data": {
      "application/javascript": [
       "if (typeof Jupyter !== \"undefined\") {require.undef(\"nbextensions/vpython_libraries/glow.min\");}else{element.textContent = ' ';}"
      ],
      "text/plain": [
       "<IPython.core.display.Javascript object>"
      ]
     },
     "metadata": {},
     "output_type": "display_data"
    },
    {
     "data": {
      "application/javascript": [
       "if (typeof Jupyter !== \"undefined\") {require.undef(\"nbextensions/vpython_libraries/glowcomm\");}else{element.textContent = ' ';}"
      ],
      "text/plain": [
       "<IPython.core.display.Javascript object>"
      ]
     },
     "metadata": {},
     "output_type": "display_data"
    },
    {
     "data": {
      "application/javascript": [
       "if (typeof Jupyter !== \"undefined\") {require.undef(\"nbextensions/vpython_libraries/jquery-ui.custom.min\");}else{element.textContent = ' ';}"
      ],
      "text/plain": [
       "<IPython.core.display.Javascript object>"
      ]
     },
     "metadata": {},
     "output_type": "display_data"
    },
    {
     "data": {
      "application/javascript": [
       "if (typeof Jupyter !== \"undefined\") {require([\"nbextensions/vpython_libraries/glow.min\"], function(){console.log(\"GLOW LOADED\");});}else{element.textContent = ' ';}"
      ],
      "text/plain": [
       "<IPython.core.display.Javascript object>"
      ]
     },
     "metadata": {},
     "output_type": "display_data"
    },
    {
     "data": {
      "application/javascript": [
       "if (typeof Jupyter !== \"undefined\") {require([\"nbextensions/vpython_libraries/glowcomm\"], function(){console.log(\"GLOWCOMM LOADED\");});}else{element.textContent = ' ';}"
      ],
      "text/plain": [
       "<IPython.core.display.Javascript object>"
      ]
     },
     "metadata": {},
     "output_type": "display_data"
    },
    {
     "data": {
      "application/javascript": [
       "if (typeof Jupyter !== \"undefined\") {require([\"nbextensions/vpython_libraries/jquery-ui.custom.min\"], function(){console.log(\"JQUERY LOADED\");});}else{element.textContent = ' ';}"
      ],
      "text/plain": [
       "<IPython.core.display.Javascript object>"
      ]
     },
     "metadata": {},
     "output_type": "display_data"
    }
   ],
   "source": [
    "from vpython import *\n",
    "\n",
    "from random import random\n",
    "class particula:\n",
    "    def __init__(self,indice,x=0,y=0,carga=100,col=color.red):\n",
    "        self.indice = indice\n",
    "        self.x=x; self.y=y\n",
    "        self.carga=carga\n",
    "        self.color=col\n",
    "    \n",
    "h = 1.0; Ep2=0.0; f=200; mov=10\n",
    "\n",
    "fijas=[particula(i+mov,x=100*cos(2*pi*i/f),y=100*sin(2*pi*i/f),\n",
    "       col=color.yellow) for i in range(f)]\n",
    "\n",
    "moviles=[particula(i,x=90.0*random()*cos(2*pi*random()),\n",
    "        y=90.0*random()*sin(2*pi*random()),carga=50)\n",
    "        for i in range(mov)]\n",
    "    \n",
    "sistema=moviles+fijas;\n",
    "\n",
    "for p in fijas:\n",
    "    sphere(pos=vec(p.x,p.y,0),radius=0.8, color=p.color)\n",
    "\n",
    "esferas=[sphere(pos=vec(p.x,p.y,0),radius=1.2, color=p.color) for p in moviles]\n",
    "\n",
    "def Ep():\n",
    "    e=0;\n",
    "    for k1 in sistema:\n",
    "        for k2 in sistema:\n",
    "            if (k1.indice!=k2.indice):\n",
    "                e=e+1/((k1.x-k2.x)*(k1.x-k2.x)+(k1.y-k2.y)*(k1.y-k2.y))\n",
    "    return(e)\n",
    "\n",
    "while (Ep()-Ep2!=0):\n",
    "    rate(50)\n",
    "    Ep2=Ep()\n",
    "    for p in moviles:\n",
    "        D = {Ep():[p.x,p.y]}\n",
    "        x1=p.x; y1= p.y\n",
    "        for k in range(8):\n",
    "            xp=x1+h*cos(2*pi*k/8)\n",
    "            yp=y1+h*sin(2*pi*k/8)\n",
    "            p.x=xp; p.y=yp\n",
    "            D[Ep()]=[xp,yp]\n",
    "        p.x=D[min(D)][0]       \n",
    "        p.y=D[min(D)][1]\n",
    "        esferas[p.indice].pos=vec(p.x,p.y,0)\n",
    "# print ('Energia Potencial final = ', Ep())"
   ]
  },
  {
   "cell_type": "code",
   "execution_count": null,
   "metadata": {},
   "outputs": [],
   "source": []
  }
 ],
 "metadata": {
  "hide_input": false,
  "kernelspec": {
   "display_name": "Python 3",
   "language": "python",
   "name": "python3"
  },
  "language_info": {
   "codemirror_mode": {
    "name": "ipython",
    "version": 3
   },
   "file_extension": ".py",
   "mimetype": "text/x-python",
   "name": "python",
   "nbconvert_exporter": "python",
   "pygments_lexer": "ipython3",
   "version": "3.8.5"
  }
 },
 "nbformat": 4,
 "nbformat_minor": 4
}
