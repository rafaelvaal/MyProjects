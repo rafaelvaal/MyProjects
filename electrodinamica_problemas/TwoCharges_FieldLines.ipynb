{
 "cells": [
  {
   "cell_type": "code",
   "execution_count": 1,
   "metadata": {},
   "outputs": [
    {
     "data": {
      "text/html": [
       "<div id=\"glowscript\" class=\"glowscript\"></div>"
      ],
      "text/plain": [
       "<IPython.core.display.HTML object>"
      ]
     },
     "metadata": {},
     "output_type": "display_data"
    },
    {
     "data": {
      "application/javascript": [
       "if (typeof Jupyter !== \"undefined\") { window.__context = { glowscript_container: $(\"#glowscript\").removeAttr(\"id\")};}else{ element.textContent = ' ';}"
      ],
      "text/plain": [
       "<IPython.core.display.Javascript object>"
      ]
     },
     "metadata": {},
     "output_type": "display_data"
    },
    {
     "data": {
      "text/html": [
       "<div id=\"glowscript\" class=\"glowscript\"></div>"
      ],
      "text/plain": [
       "<IPython.core.display.HTML object>"
      ]
     },
     "metadata": {},
     "output_type": "display_data"
    },
    {
     "data": {
      "application/javascript": [
       "if (typeof Jupyter !== \"undefined\") { window.__context = { glowscript_container: $(\"#glowscript\").removeAttr(\"id\")};}else{ element.textContent = ' ';}"
      ],
      "text/plain": [
       "<IPython.core.display.Javascript object>"
      ]
     },
     "metadata": {},
     "output_type": "display_data"
    },
    {
     "data": {
      "application/javascript": [
       "if (typeof Jupyter !== \"undefined\") {require.undef(\"nbextensions/vpython_libraries/glow.min\");}else{element.textContent = ' ';}"
      ],
      "text/plain": [
       "<IPython.core.display.Javascript object>"
      ]
     },
     "metadata": {},
     "output_type": "display_data"
    },
    {
     "data": {
      "application/javascript": [
       "if (typeof Jupyter !== \"undefined\") {require.undef(\"nbextensions/vpython_libraries/glowcomm\");}else{element.textContent = ' ';}"
      ],
      "text/plain": [
       "<IPython.core.display.Javascript object>"
      ]
     },
     "metadata": {},
     "output_type": "display_data"
    },
    {
     "data": {
      "application/javascript": [
       "if (typeof Jupyter !== \"undefined\") {require.undef(\"nbextensions/vpython_libraries/jquery-ui.custom.min\");}else{element.textContent = ' ';}"
      ],
      "text/plain": [
       "<IPython.core.display.Javascript object>"
      ]
     },
     "metadata": {},
     "output_type": "display_data"
    },
    {
     "data": {
      "application/javascript": [
       "if (typeof Jupyter !== \"undefined\") {require([\"nbextensions/vpython_libraries/glow.min\"], function(){console.log(\"GLOW LOADED\");});}else{element.textContent = ' ';}"
      ],
      "text/plain": [
       "<IPython.core.display.Javascript object>"
      ]
     },
     "metadata": {},
     "output_type": "display_data"
    },
    {
     "data": {
      "application/javascript": [
       "if (typeof Jupyter !== \"undefined\") {require([\"nbextensions/vpython_libraries/glowcomm\"], function(){console.log(\"GLOWCOMM LOADED\");});}else{element.textContent = ' ';}"
      ],
      "text/plain": [
       "<IPython.core.display.Javascript object>"
      ]
     },
     "metadata": {},
     "output_type": "display_data"
    },
    {
     "data": {
      "application/javascript": [
       "if (typeof Jupyter !== \"undefined\") {require([\"nbextensions/vpython_libraries/jquery-ui.custom.min\"], function(){console.log(\"JQUERY LOADED\");});}else{element.textContent = ' ';}"
      ],
      "text/plain": [
       "<IPython.core.display.Javascript object>"
      ]
     },
     "metadata": {},
     "output_type": "display_data"
    }
   ],
   "source": [
    "from vpython import *\n",
    "scene = canvas(center=vector(5,0,0),width=900, height=700, background=color.white)\n",
    "\n",
    "class particula:\n",
    "    def __init__(self,indice,x=0,y=0,carga=100,col=color.red):\n",
    "        self.indice = indice;\n",
    "        self.x=x; self.y=y\n",
    "        self.carga=carga\n",
    "        self.color=col;\n",
    "\n",
    "fijas=[particula(0,x = -10,y = 0,carga = 100,col=color.red),\n",
    "       particula(1,x =  10,y = 0,carga = -100,col=color.green)]\n",
    "\n",
    "esferas=[sphere(pos=vec(p.x,p.y,0),radius=0.5, color=p.color) for p in fijas]\n",
    "\n",
    "def E(x,y):\n",
    "    Ex=0; Ey=0\n",
    "    for p in fijas:\n",
    "        r2 = (x-p.x)**2+(y-p.y)**2\n",
    "        Ex = Ex + p.carga*(x-p.x)/r2**1.5\n",
    "        Ey = Ey + p.carga*(y-p.y)/r2**1.5\n",
    "    if Ex<0.00001: return 1/0.00001\n",
    "    else: return (Ey/Ex)\n",
    "\n",
    "hx = [0.05,-0.05]\n",
    "\n",
    "for h in hx:\n",
    "    for i in range(9):\n",
    "        x1 = 0.0\n",
    "        y1 = 2.5*i-10.0\n",
    "        dy2dx=(E(x1+h/2,y1)-E(x1-h/2,y1))/(2*h)\n",
    "        y0 = y1-E(x1,y1)*h+h*h*dy2dx/2.0\n",
    "        para=False;Linea=[vec(x1,y1,0)]\n",
    "        while (not para):\n",
    "            dy2dx=(E(x1+h/2,y1)-E(x1-h/2,y1))/(2*h)\n",
    "            y2 = 2*y1-y0+dy2dx*h*h\n",
    "            Linea.append(vec(x1,y1,0))\n",
    "            y0=y1;y1=y2\n",
    "            x1 = x1 + h\n",
    "            for m in fijas:\n",
    "                if ((x1-m.x)**2+(y1-m.y)**2<1): para = True \n",
    "        curve(pos=Linea,radius=0.1,color=color.yellow)"
   ]
  },
  {
   "cell_type": "code",
   "execution_count": null,
   "metadata": {},
   "outputs": [],
   "source": []
  }
 ],
 "metadata": {
  "hide_input": false,
  "kernelspec": {
   "display_name": "Python 3",
   "language": "python",
   "name": "python3"
  },
  "language_info": {
   "codemirror_mode": {
    "name": "ipython",
    "version": 3
   },
   "file_extension": ".py",
   "mimetype": "text/x-python",
   "name": "python",
   "nbconvert_exporter": "python",
   "pygments_lexer": "ipython3",
   "version": "3.8.5"
  }
 },
 "nbformat": 4,
 "nbformat_minor": 4
}
