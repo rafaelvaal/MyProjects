{
 "cells": [
  {
   "cell_type": "code",
   "execution_count": 4,
   "metadata": {},
   "outputs": [],
   "source": [
    "from vpython import *\n",
    "\n",
    "# grafica = gdisplay(xtitle='Angulo (rad)', ytitle='Velocidad (rad/s)', background=color.white,foreground=color.black)\n",
    "posicion = gcurve(color=color.red)\n",
    "h=0.01\n",
    "g=9.81; l=0.5\n",
    "x=0.99*pi; v=0.0\n",
    "def f(x):\n",
    "    return(-g/l*sin(x))\n",
    "for t in range(1000):\n",
    "    x0=x;\n",
    "    x=x+h*v+h*h*f(x)/2\n",
    "    v=v+h*(f(x0)+f(x))/2\n",
    "    posicion.plot(pos=(x,v))"
   ]
  },
  {
   "cell_type": "code",
   "execution_count": null,
   "metadata": {},
   "outputs": [],
   "source": []
  }
 ],
 "metadata": {
  "hide_input": false,
  "kernelspec": {
   "display_name": "Python 3",
   "language": "python",
   "name": "python3"
  },
  "language_info": {
   "codemirror_mode": {
    "name": "ipython",
    "version": 3
   },
   "file_extension": ".py",
   "mimetype": "text/x-python",
   "name": "python",
   "nbconvert_exporter": "python",
   "pygments_lexer": "ipython3",
   "version": "3.8.5"
  }
 },
 "nbformat": 4,
 "nbformat_minor": 4
}
