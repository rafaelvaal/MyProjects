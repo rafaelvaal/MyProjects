{
 "cells": [
  {
   "cell_type": "markdown",
   "metadata": {},
   "source": [
    "## Algoritmo de Verlet\n",
    "\n",
    "Sea $\\vec{r}(t)$ la posición de una partícula en el instante t, entonces su forma en serie de Taylor evaluada en $t+\\Delta t$:\n",
    "\n",
    "\\begin{equation}\n",
    "\\label{a}\n",
    "\\vec{r}(t+ \\Delta t) = \\vec{r}(t) + \\vec{r}'(\\vec{r},t)\\Delta t + \\vec{r}''(\\vec{r},t)\\frac{\\Delta t^2}{2} + \\cdots\n",
    "\\end{equation}\n",
    "\n",
    "Y en $t - \\Delta t$:\n",
    "\\begin{equation}\n",
    "\\label{b}\n",
    "\\vec{r}(t - \\Delta t) = x(t) - \\vec{r}'(x,t)\\Delta t + \\vec{r}''(\\vec{r},t)\\frac{\\Delta t^2}{2} - \\cdots\n",
    "\\end{equation}\n",
    "\n",
    "Sumando ambas ecuaciones:\n",
    "\\begin{equation}\n",
    "\\vec{r}(t+\\Delta t) = 2\\vec{r}(t) - \\vec{r}(t-h) + \\Delta t^2 \\vec{r}''(\\vec{r},t)\n",
    "\\end{equation}\n",
    " \n",
    "\n",
    "Haciendo $h = \\Delta t$, $a(\\vec{r},t) = \\vec{r}''(\\vec{r},t)$, $\\vec{r}_{i-1}=\\vec{r}(t-\\Delta t)$, $\\vec{r}_i = \\vec{r}(t)$, $\\vec{r}_{i+1}=\\vec{r}(t+\\Delta t)$, se obtiene la expresión discretizada del algoritmo de Verlet:\n",
    "\n",
    "$$\\vec{r}_{i+1} = 2\\vec{r}_i - \\vec{r}_{i-1} + h^2a(\\vec{r}_i,t_i)$$\n",
    "\n",
    "Para iniciar el algoritmo, haciendo $i=0$, se requiere conocer los valores de $\\vec{r}_{-1}$ y $\\vec{r}_0$. Como $\\vec{r}_0 = \\vec{r}(t=0)$ corresponde a la condición inicial que en principio se debe conocer, de la ecuación \\ref{b} se tiene:\n",
    "\n",
    "\\begin{equation}\n",
    "\\label{verlet_no_disipativo}\n",
    "\\vec{r}_{-1} = \\vec{r}_0 - \\vec{v}_0h + \\frac{h^2}{2}\\vec{a}(\\vec{r}_0,t_0)\n",
    "\\end{equation}\n",
    "\n",
    "\n",
    "## Extensión para fuerzas disipativas linealmente dependientes de la velocidad:\n",
    "\n",
    "Sea una fuerza disipativa con una componente dependiente de la posición y otra de la velocidad de forma lineal:\n",
    "$$\\vec{F} = \\vec{F^r} + \\vec{F^v} = \\vec{F^r} - \\alpha\\vec{v}$$\n",
    "\n",
    "Expresando a la velocidad como la derivada de la posición en una aproximación por diferencias finitas centrales:\n",
    "\n",
    "$$\\vec{V}(t) = \\frac{\\vec{r}(t+h) - \\vec{r}(t-h)}{2h}$$\n",
    "\n",
    "Entonces por la ecuación \\ref{verlet_no_disipativo}, se tiene:\n",
    "\n",
    "\\begin{equation}\n",
    "r_{i+1} = 2r_{i} - r_{i-1} + \\frac{h^2}{m}\\vec{F^r} + \\frac{h^2}{m}\\vec{F^v}\n",
    "\\end{equation}\n",
    "\n",
    "\\begin{equation}\n",
    "\\implies \\vec{r}_{i+1} = 2\\vec{r}_{i} - \\vec{r}_{i-1} + \\vec{a}_{i}h^2 - \\frac{\\alpha h}{2m}\\left[\\vec{r}_{i+1} - \\vec{r}_{i-1} \\right]\n",
    "\\end{equation}\n",
    "\n",
    "de donde se obtiene la expresión del algoritmo de Verlet para fuerzas dispativas dependientes linealmente de la velocidad en 3D:\n",
    "\\begin{equation}\n",
    "\\vec{r}_{i+1} = \\frac{2m}{\\alpha h + 2m }\\left[ 2\\vec{r}_i + \\left(\\frac{\\alpha h}{2m} - 1 \\right)\\vec{r}_{i-1} + h^2\\vec{a}_{i} \\right]\n",
    "\\end{equation}\n"
   ]
  },
  {
   "cell_type": "markdown",
   "metadata": {},
   "source": [
    "# Movimiento de Varias Cargas con Interacción Electrostática en un Medio Resistivo\n",
    "\n",
    "Simular el movimiento de n partículas de carga q que se mueven en un medio resistivo dentro de un círculo de m partículas fijas de carga Q.\n",
    "\n",
    "La fuerza que actúa sobre cada partícula es de la forma \n",
    "$$m\\vec{a}_i = \\vec{F}_i = K\\left[ q^2\\sum_{j\\neq i}\\frac{1}{r^2_j}\\hat{r}_j + qQ\\sum_n\\frac{1}{r^2_n}\\hat{r}_n \\right]$$\n",
    "\n",
    "O simplemente:\n",
    "$$\\vec{a}_i = \\sum_{j\\neq i}K\\frac{q_iq_j}{m_j}\\frac{1}{r^2_{ij}}\\hat{r}_{ij}$$\n",
    " \n",
    "![Title](images/cargas.png)\n"
   ]
  },
  {
   "cell_type": "code",
   "execution_count": 4,
   "metadata": {
    "code_folding": [
     0
    ]
   },
   "outputs": [],
   "source": [
    "#Parámetros de gráficas\n",
    "!jt -t onedork -tfs 14 -fs 16 -cursw 2 -cursc r -cellw 90% -T -mathfs 110 -lineh 150\n",
    "plot_theme = 'chesterish'\n",
    "\n",
    "from numpy import *\n",
    "import numpy as np\n",
    "import matplotlib.pyplot as plt\n",
    "import matplotlib.pylab as p\n",
    "from mpl_toolkits.mplot3d import Axes3D; \n",
    "import pandas as pd\n",
    "import math\n",
    "\n",
    "#Parámetros de Gráficas\n",
    "#parámetros matplotlib\n",
    "from jupyterthemes import jtplot\n",
    "jtplot.style(theme=plot_theme, context = 'talk', ticks = True, grid = False, fscale = 2)\n",
    "\n",
    "\n",
    "if plot_theme == 'chesterish' or plot_theme == 'onedork': color_text = 'white'\n",
    "elif plot_theme == 'grade3': color_text = 'black'\n",
    "    \n",
    "plt.rcParams.update({'text.usetex': True,'font.family' : 'serif', 'font.weight' : 'bold',\n",
    "                     'text.color' : color_text, 'axes.labelcolor' : color_text,\n",
    "                     'xtick.color' : color_text, 'ytick.color' : color_text,\n",
    "                     'figure.dpi' : 100, 'savefig.format' : 'jpg', 'savefig.bbox' : 'tight',\n",
    "                     'lines.linewidth': 5,\n",
    "#                      'axes.titlesize' : 32, 'font.size' : 10\n",
    "                    })\n",
    "\n",
    "\n",
    "#plotly params\n",
    "import plotly.graph_objects as go\n",
    "import plotly.io as pio\n",
    "pio.templates\n",
    "\n",
    "if plot_theme == 'chesterish' or plot_theme == 'onedork': template = 'plotly_dark'\n",
    "elif plot_theme == 'grade3': template = 'seaborn'"
   ]
  },
  {
   "cell_type": "code",
   "execution_count": 5,
   "metadata": {},
   "outputs": [],
   "source": [
    "    from vpython import *\n",
    "    from random import random\n",
    "\n",
    "    class particula:\n",
    "        def __init__(self,indice, r1 = np.zeros(3), carga=100, col=color.red):\n",
    "            self.indice = indice\n",
    "            self.r1=r1\n",
    "            self.carga=carga\n",
    "            self.color=col\n",
    "            self.tray = [r1]\n",
    "            \n",
    "        r0 = np.zeros(3); r2 = np.zeros(3)\n",
    "        v = np.zeros(3); \n",
    "        masa = 1.0\n",
    "        \n",
    "        def a(self):\n",
    "            a = np.zeros(3)\n",
    "            K = 1.\n",
    "            for p in sistema:\n",
    "                if (p.indice!=self.indice):\n",
    "                    r_norm = np.linalg.norm(self.r1 - p.r1)\n",
    "                    r̂ = self.r1 - p.r1\n",
    "                    a = a + (K/p.masa)*(self.carga*p.carga/ r_norm**3)*r̂\n",
    "            return a"
   ]
  },
  {
   "cell_type": "code",
   "execution_count": 6,
   "metadata": {},
   "outputs": [],
   "source": [
    "    α=0.3; f=100; mov=10\n",
    "    tf = 200; Niter = 500\n",
    "    \n",
    "    dt = tf/Niter\n",
    "    \n",
    "    radio = 100\n",
    "    fijas=[particula(i+mov, r1=np.array([radio*cos(2*pi*i/f), radio*sin(2*pi*i/f), 0]), col=color.yellow, carga = 100) for i in range(f)]\n",
    "    moviles=[particula(i, r1=np.array([80*random()*cos(2*pi*random()), 80*random()*sin(2*pi*random()) , 0]), carga=90)  for i in range(mov)]\n",
    "    sistema=moviles+fijas\n",
    "    \n",
    "    for p in sistema: p.r0 = p.r1 - p.v*dt + 0.5*(dt**2)*p.a() \n",
    "    \n",
    "    for i in range(Niter):\n",
    "        for p in moviles:\n",
    "            p.r2 = (2*p.masa/(α*dt+2*p.masa)) *(2*p.r1 + (α*dt/2/p.masa-1)*p.r0 + p.a() * dt**2)\n",
    "            p.tray.append(p.r2)\n",
    "            p.r0 = p.r1; p.r1=p.r2       "
   ]
  },
  {
   "cell_type": "code",
   "execution_count": 12,
   "metadata": {},
   "outputs": [
    {
     "data": {
      "text/html": [
       "<div id=\"glowscript\" class=\"glowscript\"></div>"
      ],
      "text/plain": [
       "<IPython.core.display.HTML object>"
      ]
     },
     "metadata": {},
     "output_type": "display_data"
    },
    {
     "data": {
      "application/javascript": [
       "if (typeof Jupyter !== \"undefined\") { window.__context = { glowscript_container: $(\"#glowscript\").removeAttr(\"id\")};}else{ element.textContent = ' ';}"
      ],
      "text/plain": [
       "<IPython.core.display.Javascript object>"
      ]
     },
     "metadata": {},
     "output_type": "display_data"
    }
   ],
   "source": [
    "    scene = canvas(range = 130, width=900, height=900, background=color.black)\n",
    "\n",
    "    esferas=[sphere(pos=vec(p.r1[0],p.r1[1],0), radius=1.5, color=p.color) for p in sistema]    \n",
    "    for i in range(Niter):        \n",
    "        rate(50)\n",
    "#         if (int(i * 100)) % 5 == 0:\n",
    "#             scene.capture('im' + str(int(i)))\n",
    "        for p in moviles:\n",
    "            esferas[p.indice].pos = vec(p.tray[i][0], p.tray[i][1], p.tray[i][2] )"
   ]
  },
  {
   "cell_type": "code",
   "execution_count": null,
   "metadata": {},
   "outputs": [],
   "source": []
  }
 ],
 "metadata": {
  "hide_input": false,
  "kernelspec": {
   "display_name": "Python 3",
   "language": "python",
   "name": "python3"
  },
  "language_info": {
   "codemirror_mode": {
    "name": "ipython",
    "version": 3
   },
   "file_extension": ".py",
   "mimetype": "text/x-python",
   "name": "python",
   "nbconvert_exporter": "python",
   "pygments_lexer": "ipython3",
   "version": "3.8.5"
  }
 },
 "nbformat": 4,
 "nbformat_minor": 4
}
