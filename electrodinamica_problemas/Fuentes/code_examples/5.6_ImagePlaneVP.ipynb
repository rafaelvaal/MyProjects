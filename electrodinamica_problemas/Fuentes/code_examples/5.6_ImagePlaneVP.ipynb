{
 "cells": [
  {
   "cell_type": "code",
   "execution_count": 1,
   "metadata": {},
   "outputs": [],
   "source": [
    "!jt -t chesterish -tfs 14 -fs 16 -cursw 2 -cursc r -cellw 90% -T -mathfs 110 -lineh 150\n",
    "plot_theme = 'chesterish'"
   ]
  },
  {
   "cell_type": "code",
   "execution_count": 2,
   "metadata": {},
   "outputs": [],
   "source": [
    "from numpy import *\n",
    "import numpy as np\n",
    "import matplotlib.pyplot as plt\n",
    "import matplotlib.pylab as p\n",
    "from mpl_toolkits.mplot3d import Axes3D; \n",
    "import pandas as pd\n",
    "import math\n",
    "from IPython.display import Markdown as md\n",
    "from IPython.display import display, Math # Formato LaTeX en print"
   ]
  },
  {
   "cell_type": "code",
   "execution_count": 3,
   "metadata": {},
   "outputs": [],
   "source": [
    "#Parámetros de Gráficas\n",
    "#parámetros matplotlib\n",
    "from jupyterthemes import jtplot\n",
    "jtplot.style(theme=plot_theme, context = 'talk', ticks = True, grid = False, fscale = 2)\n",
    "\n",
    "\n",
    "if plot_theme == 'chesterish' or plot_theme == 'onedork': color_text = 'white'\n",
    "elif plot_theme == 'grade3': color_text = 'black'\n",
    "    \n",
    "plt.rcParams.update({'text.usetex': True,'font.family' : 'serif', 'font.weight' : 'bold',\n",
    "                     'text.color' : color_text, 'axes.labelcolor' : color_text,\n",
    "                     'xtick.color' : color_text, 'ytick.color' : color_text,\n",
    "                     'figure.dpi' : 100, 'savefig.format' : 'jpg', 'savefig.bbox' : 'tight',\n",
    "#                      'axes.titlesize' : 32, 'font.size' : 10, 'lines.linewidth': 3\n",
    "                    })\n",
    "\n",
    "\n",
    "#plotly params\n",
    "import plotly.graph_objects as go\n",
    "import plotly.io as pio\n",
    "pio.templates\n",
    "\n",
    "if plot_theme == 'chesterish' or plot_theme == 'onedork': template = 'plotly_dark'\n",
    "elif plot_theme == 'grade3': template = 'seaborn'"
   ]
  },
  {
   "cell_type": "code",
   "execution_count": 5,
   "metadata": {},
   "outputs": [
    {
     "data": {
      "text/html": [
       "<div id=\"glowscript\" class=\"glowscript\"></div>"
      ],
      "text/plain": [
       "<IPython.core.display.HTML object>"
      ]
     },
     "metadata": {},
     "output_type": "display_data"
    },
    {
     "data": {
      "application/javascript": [
       "if (typeof Jupyter !== \"undefined\") { window.__context = { glowscript_container: $(\"#glowscript\").removeAttr(\"id\")};}else{ element.textContent = ' ';}"
      ],
      "text/plain": [
       "<IPython.core.display.Javascript object>"
      ]
     },
     "metadata": {},
     "output_type": "display_data"
    },
    {
     "data": {
      "text/html": [
       "<div id=\"glowscript\" class=\"glowscript\"></div>"
      ],
      "text/plain": [
       "<IPython.core.display.HTML object>"
      ]
     },
     "metadata": {},
     "output_type": "display_data"
    },
    {
     "data": {
      "application/javascript": [
       "if (typeof Jupyter !== \"undefined\") { window.__context = { glowscript_container: $(\"#glowscript\").removeAttr(\"id\")};}else{ element.textContent = ' ';}"
      ],
      "text/plain": [
       "<IPython.core.display.Javascript object>"
      ]
     },
     "metadata": {},
     "output_type": "display_data"
    },
    {
     "data": {
      "application/javascript": [
       "if (typeof Jupyter !== \"undefined\") {require.undef(\"nbextensions/vpython_libraries/glow.min\");}else{element.textContent = ' ';}"
      ],
      "text/plain": [
       "<IPython.core.display.Javascript object>"
      ]
     },
     "metadata": {},
     "output_type": "display_data"
    },
    {
     "data": {
      "application/javascript": [
       "if (typeof Jupyter !== \"undefined\") {require.undef(\"nbextensions/vpython_libraries/glowcomm\");}else{element.textContent = ' ';}"
      ],
      "text/plain": [
       "<IPython.core.display.Javascript object>"
      ]
     },
     "metadata": {},
     "output_type": "display_data"
    },
    {
     "data": {
      "application/javascript": [
       "if (typeof Jupyter !== \"undefined\") {require.undef(\"nbextensions/vpython_libraries/jquery-ui.custom.min\");}else{element.textContent = ' ';}"
      ],
      "text/plain": [
       "<IPython.core.display.Javascript object>"
      ]
     },
     "metadata": {},
     "output_type": "display_data"
    },
    {
     "data": {
      "application/javascript": [
       "if (typeof Jupyter !== \"undefined\") {require([\"nbextensions/vpython_libraries/glow.min\"], function(){console.log(\"GLOW LOADED\");});}else{element.textContent = ' ';}"
      ],
      "text/plain": [
       "<IPython.core.display.Javascript object>"
      ]
     },
     "metadata": {},
     "output_type": "display_data"
    },
    {
     "data": {
      "application/javascript": [
       "if (typeof Jupyter !== \"undefined\") {require([\"nbextensions/vpython_libraries/glowcomm\"], function(){console.log(\"GLOWCOMM LOADED\");});}else{element.textContent = ' ';}"
      ],
      "text/plain": [
       "<IPython.core.display.Javascript object>"
      ]
     },
     "metadata": {},
     "output_type": "display_data"
    },
    {
     "data": {
      "application/javascript": [
       "if (typeof Jupyter !== \"undefined\") {require([\"nbextensions/vpython_libraries/jquery-ui.custom.min\"], function(){console.log(\"JQUERY LOADED\");});}else{element.textContent = ' ';}"
      ],
      "text/plain": [
       "<IPython.core.display.Javascript object>"
      ]
     },
     "metadata": {},
     "output_type": "display_data"
    }
   ],
   "source": [
    "#ImagePlaneVP: E field lines, charge plus image wi Vpython\n",
    "from vpython import * \n",
    "scene = canvas(width=500, height =  500, range=100,\n",
    "              title = 'E of Charge Left of Plane (Red Image)')\n",
    "plane = box(pos=vector(0,0,0), length=2,height=130,width=130,\n",
    "           color=vector(0.9,0.9,0.9), opacity=0.5)\n",
    "\n",
    "gridpts = points(radius=4, color=color.cyan)\n",
    "PlusCharge = sphere(radius=5, color=color.red,pos=vector(40,0,0))\n",
    "NegCharge = sphere(radius=5, color = color.green, pos=vector(-40,0,0))\n",
    "\n",
    "def grid3d():\n",
    "    for z in range(-60, 80, 20):\n",
    "        for y in range(-60,80,20):\n",
    "            for x in range(-60,80,20):\n",
    "                gridpts.append(pos=vector(x,y,z))\n",
    "\n",
    "\n",
    "def electricF():\n",
    "    for y in range(-60,80,20):\n",
    "        for z in range(-60,80,20):\n",
    "            for x in range(-60,80,20):\n",
    "                r = vector(x,y,z)  #E vector here\n",
    "                xx = vector(40.,0,0)  #q location\n",
    "                d = vector(r-xx)    #Vector q to r\n",
    "                dm = vector(r+xx)   #Vector q' to r\n",
    "                dd = mag(d)   #Mag vector d\n",
    "                ddp = mag(dm)  #Mag vector dm\n",
    "                if(x==40 and y==0 and z==0): continue\n",
    "                    \n",
    "                if ddp != 0:\n",
    "                    E1 = d/dd**3  #E due to q\n",
    "                    E2 = -dm/ddp**3  #E due to -q\n",
    "                    E = E1 + E2  #Total E\n",
    "                    elecF = arrow(pos=r, color=color.orange)\n",
    "                    elecF.axis = 10*E/mag(E) # 10 x unit vector\n",
    "grid3d()\n",
    "electricF()"
   ]
  },
  {
   "cell_type": "code",
   "execution_count": null,
   "metadata": {},
   "outputs": [],
   "source": []
  }
 ],
 "metadata": {
  "hide_input": false,
  "kernelspec": {
   "display_name": "Python 3",
   "language": "python",
   "name": "python3"
  },
  "language_info": {
   "codemirror_mode": {
    "name": "ipython",
    "version": 3
   },
   "file_extension": ".py",
   "mimetype": "text/x-python",
   "name": "python",
   "nbconvert_exporter": "python",
   "pygments_lexer": "ipython3",
   "version": "3.8.5"
  }
 },
 "nbformat": 4,
 "nbformat_minor": 4
}
