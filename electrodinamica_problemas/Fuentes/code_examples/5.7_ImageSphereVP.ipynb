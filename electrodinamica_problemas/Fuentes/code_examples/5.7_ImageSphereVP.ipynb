{
 "cells": [
  {
   "cell_type": "code",
   "execution_count": 1,
   "metadata": {},
   "outputs": [],
   "source": [
    "!jt -t chesterish -tfs 14 -fs 16 -cursw 2 -cursc r -cellw 90% -T -mathfs 110 -lineh 150\n",
    "plot_theme = 'chesterish'"
   ]
  },
  {
   "cell_type": "code",
   "execution_count": 2,
   "metadata": {},
   "outputs": [],
   "source": [
    "from numpy import *\n",
    "import numpy as np\n",
    "import matplotlib.pyplot as plt\n",
    "import matplotlib.pylab as p\n",
    "from mpl_toolkits.mplot3d import Axes3D; \n",
    "import pandas as pd\n",
    "import math\n",
    "from IPython.display import Markdown as md\n",
    "from IPython.display import display, Math # Formato LaTeX en print"
   ]
  },
  {
   "cell_type": "code",
   "execution_count": 3,
   "metadata": {},
   "outputs": [],
   "source": [
    "#Parámetros de Gráficas\n",
    "#parámetros matplotlib\n",
    "from jupyterthemes import jtplot\n",
    "jtplot.style(theme=plot_theme, context = 'talk', ticks = True, grid = False, fscale = 2)\n",
    "\n",
    "\n",
    "if plot_theme == 'chesterish' or plot_theme == 'onedork': color_text = 'white'\n",
    "elif plot_theme == 'grade3': color_text = 'black'\n",
    "    \n",
    "plt.rcParams.update({'text.usetex': True,'font.family' : 'serif', 'font.weight' : 'bold',\n",
    "                     'text.color' : color_text, 'axes.labelcolor' : color_text,\n",
    "                     'xtick.color' : color_text, 'ytick.color' : color_text,\n",
    "                     'figure.dpi' : 100, 'savefig.format' : 'jpg', 'savefig.bbox' : 'tight',\n",
    "#                      'axes.titlesize' : 32, 'font.size' : 10, 'lines.linewidth': 3\n",
    "                    })\n",
    "\n",
    "\n",
    "#plotly params\n",
    "import plotly.graph_objects as go\n",
    "import plotly.io as pio\n",
    "pio.templates\n",
    "\n",
    "if plot_theme == 'chesterish' or plot_theme == 'onedork': template = 'plotly_dark'\n",
    "elif plot_theme == 'grade3': template = 'seaborn'"
   ]
  },
  {
   "cell_type": "code",
   "execution_count": 5,
   "metadata": {},
   "outputs": [
    {
     "data": {
      "text/html": [
       "<div id=\"glowscript\" class=\"glowscript\"></div>"
      ],
      "text/plain": [
       "<IPython.core.display.HTML object>"
      ]
     },
     "metadata": {},
     "output_type": "display_data"
    },
    {
     "data": {
      "application/javascript": [
       "if (typeof Jupyter !== \"undefined\") { window.__context = { glowscript_container: $(\"#glowscript\").removeAttr(\"id\")};}else{ element.textContent = ' ';}"
      ],
      "text/plain": [
       "<IPython.core.display.Javascript object>"
      ]
     },
     "metadata": {},
     "output_type": "display_data"
    }
   ],
   "source": [
    "#ImageSphere: E field lines for charge + image wi VPython\n",
    "from vpython import *\n",
    "scene = canvas(width = 500, height =500, range = 100,\n",
    "              title = 'E of Charge in Sphere (Red Image)')\n",
    "gridpts = points(radius=4, color = color.cyan)\n",
    "\n",
    "def grid3d():\n",
    "    for z in range(-60,80,20):\n",
    "        for y in range(-60,80,20):\n",
    "            for x in range(-60,80,20):\n",
    "                gridpts.append(pos = (x,y,z))\n",
    "                \n",
    "grid3d()\n",
    "xp = 60; yp = 40; zp = 0; a = 30; q = 1\n",
    "xx = vector(xp, yp, zp)  #Charge location\n",
    "xxp = xx*a**2/(mag(xx))**2 #Image location\n",
    "qp = -q*a/mag(xx) #Image Charge\n",
    "ball = sphere(pos=vector(0,0,0), radius=a, opacity=0.5)\n",
    "poscharge = sphere(radius=5,color=color.red,pos=vector(xp,yp,zp))\n",
    "negcharge = sphere(radius=5,ccolor=color.blue, pos=xxp)\n",
    "\n",
    "def electricF():\n",
    "    for y in range(-60,80,20):\n",
    "        for z in range(-60,80,20):\n",
    "            for x in range(-60,80,20):\n",
    "                r = vector(x,y,z)  #E here\n",
    "                d = vector(r-xx)  #Vector q to r\n",
    "                dm = vector(r-xxp)\n",
    "                dd = mag(d)  #Magnitude d\n",
    "                ddp = mag(dm)  #Magnitude dm\n",
    "                if dd != 0:\n",
    "                    E1 = d/dd**3   #E due to q\n",
    "                    E2 = -dm/ddp**3  #E due to -q\n",
    "                    E = E1 + E2\n",
    "                    elecF = arrow(pos=r, color=color.orange) # E\n",
    "                    elecF.axis = 10*E/mag(E) #10 x unit vector\n",
    "\n",
    "electricF()"
   ]
  },
  {
   "cell_type": "code",
   "execution_count": null,
   "metadata": {},
   "outputs": [],
   "source": []
  }
 ],
 "metadata": {
  "hide_input": false,
  "kernelspec": {
   "display_name": "Python 3",
   "language": "python",
   "name": "python3"
  },
  "language_info": {
   "codemirror_mode": {
    "name": "ipython",
    "version": 3
   },
   "file_extension": ".py",
   "mimetype": "text/x-python",
   "name": "python",
   "nbconvert_exporter": "python",
   "pygments_lexer": "ipython3",
   "version": "3.8.5"
  }
 },
 "nbformat": 4,
 "nbformat_minor": 4
}
